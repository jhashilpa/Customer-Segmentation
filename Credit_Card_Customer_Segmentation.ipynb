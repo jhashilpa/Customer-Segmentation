{
  "nbformat": 4,
  "nbformat_minor": 0,
  "metadata": {
    "kernelspec": {
      "display_name": "Python 3",
      "language": "python",
      "name": "python3"
    },
    "language_info": {
      "codemirror_mode": {
        "name": "ipython",
        "version": 3
      },
      "file_extension": ".py",
      "mimetype": "text/x-python",
      "name": "python",
      "nbconvert_exporter": "python",
      "pygments_lexer": "ipython3",
      "version": "3.7.4"
    },
    "colab": {
      "name": "Credit Card Customer Segmentation.ipynb",
      "provenance": [],
      "collapsed_sections": [
        "goaLH0pH5SOn",
        "rxtOZmCE5SOo",
        "5xOWJmCT5SOp",
        "3vJG-t0f5SOq",
        "scFFHANv5SOq"
      ]
    }
  },
  "cells": [
    {
      "cell_type": "markdown",
      "metadata": {
        "id": "2kTTXF2u5SNj"
      },
      "source": [
        "<hr>\n",
        "<h3>ALLLife Bank Credit Card Customer Segmentation</h3>\n",
        "<hr>\n",
        "\n",
        "<b>Background</b>: AllLife Bank wants to focus on its credit card customer base in the next financial year. They have been advised by their marketing research team, that the penetration in the market can be improved. Based on this input, the Marketing team proposes to run personalised campaigns to target new customers as well as upsell to existing customers. Another insight from the market research was that the customers perceive the support services of the back poorly. Based on this, the Operations team wants to upgrade the service delivery model, to ensure that customers queries are resolved faster. Head of Marketing and Head of Delivery both decide to reach out to the Data Science team for help.\n",
        "\n",
        "<b>Data Description</b>: Data is of various customers of a bank with their credit limit, the total number of credit cards the customer has, and different channels through which customer has contacted the bank for any queries, different channels include visiting the bank, online and through a call centre. \n",
        "\n",
        "<b>Key Questions:</b> \n",
        "1. How many different segments of customers are there?\n",
        "2. How are these segments different from each other?\n",
        "3. What are your recommendations to the bank on how to better market to and service these customers?"
      ]
    },
    {
      "cell_type": "markdown",
      "metadata": {
        "id": "_iHmiU055SNr"
      },
      "source": [
        "### Importing the Libraries"
      ]
    },
    {
      "cell_type": "code",
      "metadata": {
        "id": "BJ-MJlpX5SNt"
      },
      "source": [
        "import warnings\n",
        "warnings.filterwarnings('ignore')"
      ],
      "execution_count": null,
      "outputs": []
    },
    {
      "cell_type": "code",
      "metadata": {
        "id": "Gv-H6leR5SNv"
      },
      "source": [
        "import pandas as pd\n",
        "\n",
        "from sklearn.preprocessing import StandardScaler\n",
        "\n",
        "import seaborn as sns \n",
        "import matplotlib.pyplot as plt\n",
        "\n",
        "from scipy.spatial.distance import cdist\n",
        "from sklearn.cluster import KMeans\n",
        "import numpy as np \n",
        "\n",
        "from scipy.spatial.distance import pdist\n",
        "from scipy.cluster.hierarchy import dendrogram, linkage,cophenet"
      ],
      "execution_count": null,
      "outputs": []
    },
    {
      "cell_type": "code",
      "metadata": {
        "id": "f5PW9-bo5SNx"
      },
      "source": [
        "#Reading the dataset \n",
        "\n",
        "df=pd.read_excel('Credit Card Customer Data.xlsx')"
      ],
      "execution_count": null,
      "outputs": []
    },
    {
      "cell_type": "code",
      "metadata": {
        "colab": {
          "base_uri": "https://localhost:8080/",
          "height": 110
        },
        "id": "enkI1pBr5SNy",
        "outputId": "aea7fd07-6b1d-49a5-d909-3431af7eb631"
      },
      "source": [
        "#Viewing top 2 rows \n",
        "\n",
        "df.head(2)"
      ],
      "execution_count": null,
      "outputs": [
        {
          "output_type": "execute_result",
          "data": {
            "text/html": [
              "<div>\n",
              "<style scoped>\n",
              "    .dataframe tbody tr th:only-of-type {\n",
              "        vertical-align: middle;\n",
              "    }\n",
              "\n",
              "    .dataframe tbody tr th {\n",
              "        vertical-align: top;\n",
              "    }\n",
              "\n",
              "    .dataframe thead th {\n",
              "        text-align: right;\n",
              "    }\n",
              "</style>\n",
              "<table border=\"1\" class=\"dataframe\">\n",
              "  <thead>\n",
              "    <tr style=\"text-align: right;\">\n",
              "      <th></th>\n",
              "      <th>Sl_No</th>\n",
              "      <th>Customer Key</th>\n",
              "      <th>Avg_Credit_Limit</th>\n",
              "      <th>Total_Credit_Cards</th>\n",
              "      <th>Total_visits_bank</th>\n",
              "      <th>Total_visits_online</th>\n",
              "      <th>Total_calls_made</th>\n",
              "    </tr>\n",
              "  </thead>\n",
              "  <tbody>\n",
              "    <tr>\n",
              "      <th>0</th>\n",
              "      <td>1</td>\n",
              "      <td>87073</td>\n",
              "      <td>100000</td>\n",
              "      <td>2</td>\n",
              "      <td>1</td>\n",
              "      <td>1</td>\n",
              "      <td>0</td>\n",
              "    </tr>\n",
              "    <tr>\n",
              "      <th>1</th>\n",
              "      <td>2</td>\n",
              "      <td>38414</td>\n",
              "      <td>50000</td>\n",
              "      <td>3</td>\n",
              "      <td>0</td>\n",
              "      <td>10</td>\n",
              "      <td>9</td>\n",
              "    </tr>\n",
              "  </tbody>\n",
              "</table>\n",
              "</div>"
            ],
            "text/plain": [
              "   Sl_No  Customer Key  ...  Total_visits_online  Total_calls_made\n",
              "0      1         87073  ...                    1                 0\n",
              "1      2         38414  ...                   10                 9\n",
              "\n",
              "[2 rows x 7 columns]"
            ]
          },
          "metadata": {},
          "execution_count": 3
        }
      ]
    },
    {
      "cell_type": "markdown",
      "metadata": {
        "id": "s6O13ZHM5SN1"
      },
      "source": [
        "The cols : Sl_No and CustomerKey are IDs which can be eliminated as they are unique and will not have any relevant role in forming the clusters so we remove them"
      ]
    },
    {
      "cell_type": "code",
      "metadata": {
        "id": "CttQxEww5SN4"
      },
      "source": [
        "features=['Avg_Credit_Limit','Total_Credit_Cards','Total_visits_bank','Total_visits_online','Total_calls_made']"
      ],
      "execution_count": null,
      "outputs": []
    },
    {
      "cell_type": "code",
      "metadata": {
        "id": "cS4F2RLE5SN6"
      },
      "source": [
        "subset=df[features]  #Selecting only the above columns "
      ],
      "execution_count": null,
      "outputs": []
    },
    {
      "cell_type": "markdown",
      "metadata": {
        "id": "j-OVgAC65SN8"
      },
      "source": [
        "### EDA "
      ]
    },
    {
      "cell_type": "markdown",
      "metadata": {
        "id": "wMoira7R5SN9"
      },
      "source": [
        "#### Checking for Missing Values "
      ]
    },
    {
      "cell_type": "code",
      "metadata": {
        "colab": {
          "base_uri": "https://localhost:8080/"
        },
        "id": "flNB92gS5SN-",
        "outputId": "c0d7d07e-3c66-458b-80ce-61f2a9be319c"
      },
      "source": [
        "subset.isna().sum() "
      ],
      "execution_count": null,
      "outputs": [
        {
          "output_type": "execute_result",
          "data": {
            "text/plain": [
              "Avg_Credit_Limit       0\n",
              "Total_Credit_Cards     0\n",
              "Total_visits_bank      0\n",
              "Total_visits_online    0\n",
              "Total_calls_made       0\n",
              "dtype: int64"
            ]
          },
          "metadata": {},
          "execution_count": 10
        }
      ]
    },
    {
      "cell_type": "markdown",
      "metadata": {
        "id": "hhQPYEID5SOA"
      },
      "source": [
        "No missing values were found "
      ]
    },
    {
      "cell_type": "markdown",
      "metadata": {
        "id": "bQHgWFWh5SOA"
      },
      "source": [
        "#### Checking for the statistically summary "
      ]
    },
    {
      "cell_type": "code",
      "metadata": {
        "colab": {
          "base_uri": "https://localhost:8080/",
          "height": 294
        },
        "id": "4LP14hvv5SOC",
        "outputId": "bbef77de-7501-4227-81e5-ebd74fd3a402"
      },
      "source": [
        "subset.describe()"
      ],
      "execution_count": null,
      "outputs": [
        {
          "output_type": "execute_result",
          "data": {
            "text/html": [
              "<div>\n",
              "<style scoped>\n",
              "    .dataframe tbody tr th:only-of-type {\n",
              "        vertical-align: middle;\n",
              "    }\n",
              "\n",
              "    .dataframe tbody tr th {\n",
              "        vertical-align: top;\n",
              "    }\n",
              "\n",
              "    .dataframe thead th {\n",
              "        text-align: right;\n",
              "    }\n",
              "</style>\n",
              "<table border=\"1\" class=\"dataframe\">\n",
              "  <thead>\n",
              "    <tr style=\"text-align: right;\">\n",
              "      <th></th>\n",
              "      <th>Avg_Credit_Limit</th>\n",
              "      <th>Total_Credit_Cards</th>\n",
              "      <th>Total_visits_bank</th>\n",
              "      <th>Total_visits_online</th>\n",
              "      <th>Total_calls_made</th>\n",
              "    </tr>\n",
              "  </thead>\n",
              "  <tbody>\n",
              "    <tr>\n",
              "      <th>count</th>\n",
              "      <td>660.000000</td>\n",
              "      <td>660.000000</td>\n",
              "      <td>660.000000</td>\n",
              "      <td>660.000000</td>\n",
              "      <td>660.000000</td>\n",
              "    </tr>\n",
              "    <tr>\n",
              "      <th>mean</th>\n",
              "      <td>34574.242424</td>\n",
              "      <td>4.706061</td>\n",
              "      <td>2.403030</td>\n",
              "      <td>2.606061</td>\n",
              "      <td>3.583333</td>\n",
              "    </tr>\n",
              "    <tr>\n",
              "      <th>std</th>\n",
              "      <td>37625.487804</td>\n",
              "      <td>2.167835</td>\n",
              "      <td>1.631813</td>\n",
              "      <td>2.935724</td>\n",
              "      <td>2.865317</td>\n",
              "    </tr>\n",
              "    <tr>\n",
              "      <th>min</th>\n",
              "      <td>3000.000000</td>\n",
              "      <td>1.000000</td>\n",
              "      <td>0.000000</td>\n",
              "      <td>0.000000</td>\n",
              "      <td>0.000000</td>\n",
              "    </tr>\n",
              "    <tr>\n",
              "      <th>25%</th>\n",
              "      <td>10000.000000</td>\n",
              "      <td>3.000000</td>\n",
              "      <td>1.000000</td>\n",
              "      <td>1.000000</td>\n",
              "      <td>1.000000</td>\n",
              "    </tr>\n",
              "    <tr>\n",
              "      <th>50%</th>\n",
              "      <td>18000.000000</td>\n",
              "      <td>5.000000</td>\n",
              "      <td>2.000000</td>\n",
              "      <td>2.000000</td>\n",
              "      <td>3.000000</td>\n",
              "    </tr>\n",
              "    <tr>\n",
              "      <th>75%</th>\n",
              "      <td>48000.000000</td>\n",
              "      <td>6.000000</td>\n",
              "      <td>4.000000</td>\n",
              "      <td>4.000000</td>\n",
              "      <td>5.000000</td>\n",
              "    </tr>\n",
              "    <tr>\n",
              "      <th>max</th>\n",
              "      <td>200000.000000</td>\n",
              "      <td>10.000000</td>\n",
              "      <td>5.000000</td>\n",
              "      <td>15.000000</td>\n",
              "      <td>10.000000</td>\n",
              "    </tr>\n",
              "  </tbody>\n",
              "</table>\n",
              "</div>"
            ],
            "text/plain": [
              "       Avg_Credit_Limit  ...  Total_calls_made\n",
              "count        660.000000  ...        660.000000\n",
              "mean       34574.242424  ...          3.583333\n",
              "std        37625.487804  ...          2.865317\n",
              "min         3000.000000  ...          0.000000\n",
              "25%        10000.000000  ...          1.000000\n",
              "50%        18000.000000  ...          3.000000\n",
              "75%        48000.000000  ...          5.000000\n",
              "max       200000.000000  ...         10.000000\n",
              "\n",
              "[8 rows x 5 columns]"
            ]
          },
          "metadata": {},
          "execution_count": 11
        }
      ]
    },
    {
      "cell_type": "markdown",
      "metadata": {
        "id": "oYFJ3fqF5SOC"
      },
      "source": [
        "STandardize the dataset as the range of all the columns look different from each other\n",
        "\n"
      ]
    },
    {
      "cell_type": "markdown",
      "metadata": {
        "id": "wUV9jQCo5SOD"
      },
      "source": [
        "#### Standard Scaler ( Z Score )"
      ]
    },
    {
      "cell_type": "code",
      "metadata": {
        "id": "P6GN068y5SOE"
      },
      "source": [
        "scaler=StandardScaler()\n",
        "subset_scaled=scaler.fit_transform(subset)   "
      ],
      "execution_count": null,
      "outputs": []
    },
    {
      "cell_type": "code",
      "metadata": {
        "id": "DoCrinGK5SOF"
      },
      "source": [
        "subset_scaled_df=pd.DataFrame(subset_scaled,columns=subset.columns)   #Creating a dataframe of the above results"
      ],
      "execution_count": null,
      "outputs": []
    },
    {
      "cell_type": "markdown",
      "metadata": {
        "id": "1yCotKuk5SOF"
      },
      "source": [
        "### Data Visualizations "
      ]
    },
    {
      "cell_type": "markdown",
      "metadata": {
        "id": "uNg7H_W-5SOG"
      },
      "source": [
        "#### HeatMap :  To check for correlated features "
      ]
    },
    {
      "cell_type": "code",
      "metadata": {
        "colab": {
          "base_uri": "https://localhost:8080/",
          "height": 351
        },
        "id": "cEflJ_N75SOH",
        "outputId": "f84e1187-a081-4521-918a-8c6030539277"
      },
      "source": [
        "sns.heatmap(subset_scaled_df.corr(),annot=True)\n",
        "plt.show()"
      ],
      "execution_count": null,
      "outputs": [
        {
          "output_type": "display_data",
          "data": {
            "image/png": "[encoded data removed]",
            "text/plain": [
              "<Figure size 432x288 with 2 Axes>"
            ]
          },
          "metadata": {
            "needs_background": "light"
          }
        }
      ]
    },
    {
      "cell_type": "markdown",
      "metadata": {
        "id": "wQlHF1Te5SOH"
      },
      "source": [
        "There is no significant correlation observed among the different features "
      ]
    },
    {
      "cell_type": "markdown",
      "metadata": {
        "id": "GdeiP4Ht5SOK"
      },
      "source": [
        "#### Elbow Plot"
      ]
    },
    {
      "cell_type": "code",
      "metadata": {
        "colab": {
          "base_uri": "https://localhost:8080/",
          "height": 614
        },
        "id": "IVhUnzeK5SOK",
        "outputId": "8f24526e-11cd-4629-e712-cfd6a2f2b533"
      },
      "source": [
        "\n",
        "clusters=range(1,10)\n",
        "wcss=[]\n",
        "for k in clusters:\n",
        "    model=KMeans(n_clusters=k)\n",
        "    model.fit(subset_scaled_df)\n",
        "    prediction=model.predict(subset_scaled_df)\n",
        "    print(k,distortion)\n",
        "    print(\"For n_clusters =\", k, \"The average WCSS is :\",model.inertia_)\n",
        "    wcss.append(model.inertia_)\n",
        "plt.plot(range(1,10),wcss)\n",
        "plt.title('The Elbow Method')\n",
        "plt.xlabel('Number of clusters')\n",
        "plt.ylabel('WCSS')\n",
        "plt.show()\n",
        "\n"
      ],
      "execution_count": null,
      "outputs": [
        {
          "output_type": "stream",
          "name": "stdout",
          "text": [
            "1 0.864470869137024\n",
            "For n_clusters = 1 The average WCSS is : 3300.0\n",
            "2 0.864470869137024\n",
            "For n_clusters = 2 The average WCSS is : 2040.989816478495\n",
            "3 0.864470869137024\n",
            "For n_clusters = 3 The average WCSS is : 933.0437490000535\n",
            "4 0.864470869137024\n",
            "For n_clusters = 4 The average WCSS is : 780.7736895551767\n",
            "5 0.864470869137024\n",
            "For n_clusters = 5 The average WCSS is : 704.4759188657506\n",
            "6 0.864470869137024\n",
            "For n_clusters = 6 The average WCSS is : 642.2851847541599\n",
            "7 0.864470869137024\n",
            "For n_clusters = 7 The average WCSS is : 600.2497728911784\n",
            "8 0.864470869137024\n",
            "For n_clusters = 8 The average WCSS is : 563.3799171776227\n",
            "9 0.864470869137024\n",
            "For n_clusters = 9 The average WCSS is : 535.7462662559637\n"
          ]
        },
        {
          "output_type": "display_data",
          "data": {
            "image/png": "[encoded data removed]",
            "text/plain": [
              "<Figure size 432x288 with 1 Axes>"
            ]
          },
          "metadata": {
            "needs_background": "light"
          }
        }
      ]
    },
    {
      "cell_type": "markdown",
      "metadata": {
        "id": "qKEY_mbK5SOL"
      },
      "source": [
        "Looking at the elbow method we can take K=3 , so let's apply Kmeans with k=3 \n"
      ]
    },
    {
      "cell_type": "code",
      "metadata": {
        "colab": {
          "base_uri": "https://localhost:8080/"
        },
        "id": "-JuYcv2i5SOM",
        "outputId": "2d637559-25ae-4afb-cd22-7887b2a9a02c"
      },
      "source": [
        "kmeans = KMeans(n_clusters=3, n_init = 15, random_state=2345)\n",
        "kmeans.fit(subset_scaled_df)\n"
      ],
      "execution_count": null,
      "outputs": [
        {
          "output_type": "execute_result",
          "data": {
            "text/plain": [
              "KMeans(algorithm='auto', copy_x=True, init='k-means++', max_iter=300,\n",
              "       n_clusters=3, n_init=15, n_jobs=None, precompute_distances='auto',\n",
              "       random_state=2345, tol=0.0001, verbose=0)"
            ]
          },
          "metadata": {},
          "execution_count": 21
        }
      ]
    },
    {
      "cell_type": "code",
      "metadata": {
        "colab": {
          "base_uri": "https://localhost:8080/"
        },
        "id": "h3SHiRmh5SON",
        "outputId": "a5c06048-032c-41b0-ee8b-02d44b8e2700"
      },
      "source": [
        "centroids = kmeans.cluster_centers_\n",
        "print(centroids)\n"
      ],
      "execution_count": null,
      "outputs": [
        {
          "output_type": "execute_result",
          "data": {
            "text/plain": [
              "array([[-0.59579625, -1.05962278, -0.9015185 ,  0.32299678,  1.14810882],\n",
              "       [-0.02106178,  0.37368962,  0.6663945 , -0.55367163, -0.55300488],\n",
              "       [ 2.83176409,  1.86222621, -1.10576269,  2.82731942, -0.87432983]])"
            ]
          },
          "metadata": {},
          "execution_count": 22
        }
      ]
    },
    {
      "cell_type": "code",
      "metadata": {
        "id": "iSk3ZfGp5SON"
      },
      "source": [
        "centroid_df = pd.DataFrame(centroids, columns = subset_scaled_df.columns )"
      ],
      "execution_count": null,
      "outputs": []
    },
    {
      "cell_type": "code",
      "metadata": {
        "id": "Wm61EeaJ5SOO",
        "outputId": "bcf907f4-f34f-4462-cee4-8336a996db9f"
      },
      "source": [
        "centroid_df"
      ],
      "execution_count": null,
      "outputs": [
        {
          "data": {
            "text/html": [
              "<div>\n",
              "<style scoped>\n",
              "    .dataframe tbody tr th:only-of-type {\n",
              "        vertical-align: middle;\n",
              "    }\n",
              "\n",
              "    .dataframe tbody tr th {\n",
              "        vertical-align: top;\n",
              "    }\n",
              "\n",
              "    .dataframe thead th {\n",
              "        text-align: right;\n",
              "    }\n",
              "</style>\n",
              "<table border=\"1\" class=\"dataframe\">\n",
              "  <thead>\n",
              "    <tr style=\"text-align: right;\">\n",
              "      <th></th>\n",
              "      <th>Avg_Credit_Limit</th>\n",
              "      <th>Total_Credit_Cards</th>\n",
              "      <th>Total_visits_bank</th>\n",
              "      <th>Total_visits_online</th>\n",
              "      <th>Total_calls_made</th>\n",
              "    </tr>\n",
              "  </thead>\n",
              "  <tbody>\n",
              "    <tr>\n",
              "      <th>0</th>\n",
              "      <td>-0.595796</td>\n",
              "      <td>-1.059623</td>\n",
              "      <td>-0.901518</td>\n",
              "      <td>0.322997</td>\n",
              "      <td>1.148109</td>\n",
              "    </tr>\n",
              "    <tr>\n",
              "      <th>1</th>\n",
              "      <td>-0.021062</td>\n",
              "      <td>0.373690</td>\n",
              "      <td>0.666395</td>\n",
              "      <td>-0.553672</td>\n",
              "      <td>-0.553005</td>\n",
              "    </tr>\n",
              "    <tr>\n",
              "      <th>2</th>\n",
              "      <td>2.831764</td>\n",
              "      <td>1.862226</td>\n",
              "      <td>-1.105763</td>\n",
              "      <td>2.827319</td>\n",
              "      <td>-0.874330</td>\n",
              "    </tr>\n",
              "  </tbody>\n",
              "</table>\n",
              "</div>"
            ],
            "text/plain": [
              "   Avg_Credit_Limit  Total_Credit_Cards  Total_visits_bank  \\\n",
              "0         -0.595796           -1.059623          -0.901518   \n",
              "1         -0.021062            0.373690           0.666395   \n",
              "2          2.831764            1.862226          -1.105763   \n",
              "\n",
              "   Total_visits_online  Total_calls_made  \n",
              "0             0.322997          1.148109  \n",
              "1            -0.553672         -0.553005  \n",
              "2             2.827319         -0.874330  "
            ]
          },
          "execution_count": 17,
          "metadata": {},
          "output_type": "execute_result"
        }
      ]
    },
    {
      "cell_type": "markdown",
      "metadata": {
        "id": "Z-YsI5sD5SOP"
      },
      "source": [
        "The above are the centroids for the different clusters "
      ]
    },
    {
      "cell_type": "markdown",
      "metadata": {
        "id": "DxIDmw7N5SOQ"
      },
      "source": [
        "#### Adding Label to the dataset"
      ]
    },
    {
      "cell_type": "code",
      "metadata": {
        "id": "gdHAV1Ne5SOR"
      },
      "source": [
        "dataset=subset_scaled_df[:]  #creating a copy of the data "
      ],
      "execution_count": null,
      "outputs": []
    },
    {
      "cell_type": "code",
      "metadata": {
        "colab": {
          "base_uri": "https://localhost:8080/"
        },
        "id": "U0sw_9m45SOR",
        "outputId": "1e1ff781-e1d0-49ab-f13d-92c1f9c9ff9e"
      },
      "source": [
        "dataset['KmeansLabel']=kmeans.labels_"
      ],
      "execution_count": null,
      "outputs": [
        {
          "output_type": "stream",
          "name": "stderr",
          "text": [
            "/usr/local/lib/python3.7/dist-packages/ipykernel_launcher.py:1: SettingWithCopyWarning: \n",
            "A value is trying to be set on a copy of a slice from a DataFrame.\n",
            "Try using .loc[row_indexer,col_indexer] = value instead\n",
            "\n",
            "See the caveats in the documentation: https://pandas.pydata.org/pandas-docs/stable/user_guide/indexing.html#returning-a-view-versus-a-copy\n",
            "  \"\"\"Entry point for launching an IPython kernel.\n"
          ]
        }
      ]
    },
    {
      "cell_type": "code",
      "metadata": {
        "colab": {
          "base_uri": "https://localhost:8080/",
          "height": 202
        },
        "id": "J3wVijJ25SOS",
        "outputId": "572a0b0b-bfb0-4e90-c7cc-130ca870c33f"
      },
      "source": [
        "dataset.head()"
      ],
      "execution_count": null,
      "outputs": [
        {
          "output_type": "execute_result",
          "data": {
            "text/html": [
              "<div>\n",
              "<style scoped>\n",
              "    .dataframe tbody tr th:only-of-type {\n",
              "        vertical-align: middle;\n",
              "    }\n",
              "\n",
              "    .dataframe tbody tr th {\n",
              "        vertical-align: top;\n",
              "    }\n",
              "\n",
              "    .dataframe thead th {\n",
              "        text-align: right;\n",
              "    }\n",
              "</style>\n",
              "<table border=\"1\" class=\"dataframe\">\n",
              "  <thead>\n",
              "    <tr style=\"text-align: right;\">\n",
              "      <th></th>\n",
              "      <th>Avg_Credit_Limit</th>\n",
              "      <th>Total_Credit_Cards</th>\n",
              "      <th>Total_visits_bank</th>\n",
              "      <th>Total_visits_online</th>\n",
              "      <th>Total_calls_made</th>\n",
              "      <th>KmeansLabel</th>\n",
              "    </tr>\n",
              "  </thead>\n",
              "  <tbody>\n",
              "    <tr>\n",
              "      <th>0</th>\n",
              "      <td>1.740187</td>\n",
              "      <td>-1.249225</td>\n",
              "      <td>-0.860451</td>\n",
              "      <td>-0.547490</td>\n",
              "      <td>-1.251537</td>\n",
              "      <td>1</td>\n",
              "    </tr>\n",
              "    <tr>\n",
              "      <th>1</th>\n",
              "      <td>0.410293</td>\n",
              "      <td>-0.787585</td>\n",
              "      <td>-1.473731</td>\n",
              "      <td>2.520519</td>\n",
              "      <td>1.891859</td>\n",
              "      <td>0</td>\n",
              "    </tr>\n",
              "    <tr>\n",
              "      <th>2</th>\n",
              "      <td>0.410293</td>\n",
              "      <td>1.058973</td>\n",
              "      <td>-0.860451</td>\n",
              "      <td>0.134290</td>\n",
              "      <td>0.145528</td>\n",
              "      <td>1</td>\n",
              "    </tr>\n",
              "    <tr>\n",
              "      <th>3</th>\n",
              "      <td>-0.121665</td>\n",
              "      <td>0.135694</td>\n",
              "      <td>-0.860451</td>\n",
              "      <td>-0.547490</td>\n",
              "      <td>0.145528</td>\n",
              "      <td>1</td>\n",
              "    </tr>\n",
              "    <tr>\n",
              "      <th>4</th>\n",
              "      <td>1.740187</td>\n",
              "      <td>0.597334</td>\n",
              "      <td>-1.473731</td>\n",
              "      <td>3.202298</td>\n",
              "      <td>-0.203739</td>\n",
              "      <td>2</td>\n",
              "    </tr>\n",
              "  </tbody>\n",
              "</table>\n",
              "</div>"
            ],
            "text/plain": [
              "   Avg_Credit_Limit  Total_Credit_Cards  ...  Total_calls_made  KmeansLabel\n",
              "0          1.740187           -1.249225  ...         -1.251537            1\n",
              "1          0.410293           -0.787585  ...          1.891859            0\n",
              "2          0.410293            1.058973  ...          0.145528            1\n",
              "3         -0.121665            0.135694  ...          0.145528            1\n",
              "4          1.740187            0.597334  ...         -0.203739            2\n",
              "\n",
              "[5 rows x 6 columns]"
            ]
          },
          "metadata": {},
          "execution_count": 27
        }
      ]
    },
    {
      "cell_type": "markdown",
      "metadata": {
        "id": "XjVEWvJT5SOT"
      },
      "source": [
        "### Visualizing the clusters"
      ]
    },
    {
      "cell_type": "markdown",
      "metadata": {
        "id": "ZzpeuWe75SOT"
      },
      "source": [
        "#### Since the number of dimensions is 5 in the dataset , it is not possible to create 5-d Visualization so we can take any 2 random features and make a scatter plot observing the different  clusters "
      ]
    },
    {
      "cell_type": "code",
      "metadata": {
        "colab": {
          "base_uri": "https://localhost:8080/",
          "height": 264
        },
        "id": "LT8R2TNP5SOU",
        "outputId": "66f4fd5c-de6d-4aa4-e4a9-a00b14926e19"
      },
      "source": [
        "plt.scatter(dataset['Avg_Credit_Limit'], dataset['Total_Credit_Cards'], c=kmeans.labels_,)  \n",
        "plt.show()"
      ],
      "execution_count": null,
      "outputs": [
        {
          "output_type": "display_data",
          "data": {
            "image/png": "[encoded data removed]",
            "text/plain": [
              "<Figure size 432x288 with 1 Axes>"
            ]
          },
          "metadata": {
            "needs_background": "light"
          }
        }
      ]
    },
    {
      "cell_type": "code",
      "metadata": {
        "id": "QR6aEMGZ5SOU",
        "outputId": "4efff926-b4f0-4dc7-8c16-1a16969d6f37"
      },
      "source": [
        "plt.scatter(dataset['Avg_Credit_Limit'], dataset['Total_visits_bank'], c=kmeans.labels_,)  \n",
        "plt.show()"
      ],
      "execution_count": null,
      "outputs": [
        {
          "data": {
            "image/png": "[encoded data removed]",
            "text/plain": [
              "<Figure size 432x288 with 1 Axes>"
            ]
          },
          "metadata": {
            "needs_background": "light"
          },
          "output_type": "display_data"
        }
      ]
    },
    {
      "cell_type": "code",
      "metadata": {
        "id": "NV8rLkMe5SOV",
        "outputId": "474bc5b3-445a-489a-8f59-4243994bcbc1"
      },
      "source": [
        "plt.scatter(dataset['Avg_Credit_Limit'], dataset['Total_calls_made'], c=kmeans.labels_,)  \n",
        "plt.show()"
      ],
      "execution_count": null,
      "outputs": [
        {
          "data": {
            "image/png": "[encoded data removed]",
            "text/plain": [
              "<Figure size 432x288 with 1 Axes>"
            ]
          },
          "metadata": {
            "needs_background": "light"
          },
          "output_type": "display_data"
        }
      ]
    },
    {
      "cell_type": "markdown",
      "metadata": {
        "id": "NhCfP4ee5SOW"
      },
      "source": [
        "### Analyse the Clusters "
      ]
    },
    {
      "cell_type": "markdown",
      "metadata": {
        "id": "Rv8v8r_x5SOW"
      },
      "source": [
        "Let us make a visualization to observe the different clusters by making boxplots , \n",
        "for the clusters we expect to observe statistical properties which differentiates clusters with each other "
      ]
    },
    {
      "cell_type": "code",
      "metadata": {
        "id": "QDE-vLx95SOW",
        "outputId": "46ac7139-3309-4438-f220-ebf44b6786de"
      },
      "source": [
        "dataset.boxplot(by = 'KmeansLabel',  layout=(2,4), figsize=(20, 15))\n",
        "plt.show()"
      ],
      "execution_count": null,
      "outputs": [
        {
          "data": {
            "image/png": "[encoded data removed]",
            "text/plain": [
              "<Figure size 1440x1080 with 8 Axes>"
            ]
          },
          "metadata": {
            "needs_background": "light"
          },
          "output_type": "display_data"
        }
      ]
    },
    {
      "cell_type": "markdown",
      "metadata": {
        "id": "0eQtGI_65SOX"
      },
      "source": [
        "Looking the box plot we can observe differentiated clusters "
      ]
    },
    {
      "cell_type": "code",
      "metadata": {
        "colab": {
          "base_uri": "https://localhost:8080/",
          "height": 294
        },
        "id": "_JTFfFKP-dRe",
        "outputId": "ee671a89-8733-43c3-903c-9a08f7a338ad"
      },
      "source": [
        "from sklearn.decomposition import PCA\n",
        "pca = PCA()\n",
        "principalComponents = pca.fit_transform(subset_scaled_df)\n",
        "plt.figure()\n",
        "plt.plot(np.cumsum(pca.explained_variance_ratio_))\n",
        "plt.xlabel('Number of Components')\n",
        "plt.ylabel('Variance (%)') #for each component\n",
        "plt.title('Explained Variance')\n",
        "plt.show()"
      ],
      "execution_count": null,
      "outputs": [
        {
          "output_type": "display_data",
          "data": {
            "image/png": "[encoded data removed]",
            "text/plain": [
              "<Figure size 432x288 with 1 Axes>"
            ]
          },
          "metadata": {
            "needs_background": "light"
          }
        }
      ]
    },
    {
      "cell_type": "markdown",
      "metadata": {
        "id": "h3ssnVfRCgKn"
      },
      "source": [
        "Apply PCA and then create clusters again"
      ]
    },
    {
      "cell_type": "code",
      "metadata": {
        "colab": {
          "base_uri": "https://localhost:8080/"
        },
        "id": "suzarzzzBlQL",
        "outputId": "becc5eb4-3952-4b1c-c1f1-a2cc6a5309e6"
      },
      "source": [
        "pca = PCA(.95)\n",
        "new_data = pca.fit_transform(subset_scaled_df)\n",
        "# This will be the new data fed to the algorithm.\n",
        "print(new_data.shape)"
      ],
      "execution_count": null,
      "outputs": [
        {
          "output_type": "stream",
          "name": "stdout",
          "text": [
            "(660, 4)\n"
          ]
        }
      ]
    },
    {
      "cell_type": "code",
      "metadata": {
        "colab": {
          "base_uri": "https://localhost:8080/",
          "height": 202
        },
        "id": "WseYf0fbCExK",
        "outputId": "ea17ad03-c254-45ff-ce1a-8f9a979ffdc8"
      },
      "source": [
        "principal_df = pd.DataFrame(data = new_data\n",
        "             , columns = ['principal component 1', 'principal component 2','principal component 3','principal component 4'])\n",
        "principal_df.head()"
      ],
      "execution_count": null,
      "outputs": [
        {
          "output_type": "execute_result",
          "data": {
            "text/html": [
              "<div>\n",
              "<style scoped>\n",
              "    .dataframe tbody tr th:only-of-type {\n",
              "        vertical-align: middle;\n",
              "    }\n",
              "\n",
              "    .dataframe tbody tr th {\n",
              "        vertical-align: top;\n",
              "    }\n",
              "\n",
              "    .dataframe thead th {\n",
              "        text-align: right;\n",
              "    }\n",
              "</style>\n",
              "<table border=\"1\" class=\"dataframe\">\n",
              "  <thead>\n",
              "    <tr style=\"text-align: right;\">\n",
              "      <th></th>\n",
              "      <th>principal component 1</th>\n",
              "      <th>principal component 2</th>\n",
              "      <th>principal component 3</th>\n",
              "      <th>principal component 4</th>\n",
              "    </tr>\n",
              "  </thead>\n",
              "  <tbody>\n",
              "    <tr>\n",
              "      <th>0</th>\n",
              "      <td>0.501291</td>\n",
              "      <td>0.524829</td>\n",
              "      <td>1.895862</td>\n",
              "      <td>1.200582</td>\n",
              "    </tr>\n",
              "    <tr>\n",
              "      <th>1</th>\n",
              "      <td>-1.459560</td>\n",
              "      <td>3.105588</td>\n",
              "      <td>-0.906802</td>\n",
              "      <td>0.411052</td>\n",
              "    </tr>\n",
              "    <tr>\n",
              "      <th>2</th>\n",
              "      <td>0.525795</td>\n",
              "      <td>0.823979</td>\n",
              "      <td>0.089030</td>\n",
              "      <td>-1.033119</td>\n",
              "    </tr>\n",
              "    <tr>\n",
              "      <th>3</th>\n",
              "      <td>-0.362294</td>\n",
              "      <td>0.128123</td>\n",
              "      <td>0.558215</td>\n",
              "      <td>-0.729885</td>\n",
              "    </tr>\n",
              "    <tr>\n",
              "      <th>4</th>\n",
              "      <td>1.266228</td>\n",
              "      <td>3.668708</td>\n",
              "      <td>-0.099999</td>\n",
              "      <td>0.505571</td>\n",
              "    </tr>\n",
              "  </tbody>\n",
              "</table>\n",
              "</div>"
            ],
            "text/plain": [
              "   principal component 1  ...  principal component 4\n",
              "0               0.501291  ...               1.200582\n",
              "1              -1.459560  ...               0.411052\n",
              "2               0.525795  ...              -1.033119\n",
              "3              -0.362294  ...              -0.729885\n",
              "4               1.266228  ...               0.505571\n",
              "\n",
              "[5 rows x 4 columns]"
            ]
          },
          "metadata": {},
          "execution_count": 41
        }
      ]
    },
    {
      "cell_type": "code",
      "metadata": {
        "colab": {
          "base_uri": "https://localhost:8080/",
          "height": 454
        },
        "id": "IUD1P-KDCLz3",
        "outputId": "ff2bd755-992b-4356-cd16-5c00c068689e"
      },
      "source": [
        "clusters=range(1,10)\n",
        "wcss=[]\n",
        "for k in clusters:\n",
        "    model=KMeans(n_clusters=k)\n",
        "    model.fit(principal_df)\n",
        "    prediction=model.predict(principal_df)\n",
        "    print(\"For n_clusters =\", k, \"The average WCSS is :\",model.inertia_)\n",
        "    wcss.append(model.inertia_)\n",
        "plt.plot(range(1,10),wcss)\n",
        "plt.title('The Elbow Method')\n",
        "plt.xlabel('Number of clusters')\n",
        "plt.ylabel('WCSS')\n",
        "plt.show()"
      ],
      "execution_count": null,
      "outputs": [
        {
          "output_type": "stream",
          "name": "stdout",
          "text": [
            "For n_clusters = 1 The average WCSS is : 3139.0025494696447\n",
            "For n_clusters = 2 The average WCSS is : 1880.5064880158084\n",
            "For n_clusters = 3 The average WCSS is : 773.7281632647084\n",
            "For n_clusters = 4 The average WCSS is : 624.315704719866\n",
            "For n_clusters = 5 The average WCSS is : 555.0615396552112\n",
            "For n_clusters = 6 The average WCSS is : 511.1529610755921\n",
            "For n_clusters = 7 The average WCSS is : 469.069705537037\n",
            "For n_clusters = 8 The average WCSS is : 440.0508098472978\n",
            "For n_clusters = 9 The average WCSS is : 411.49873873646936\n"
          ]
        },
        {
          "output_type": "display_data",
          "data": {
            "image/png": "[encoded data removed]",
            "text/plain": [
              "<Figure size 432x288 with 1 Axes>"
            ]
          },
          "metadata": {
            "needs_background": "light"
          }
        }
      ]
    },
    {
      "cell_type": "code",
      "metadata": {
        "colab": {
          "base_uri": "https://localhost:8080/",
          "height": 194
        },
        "id": "jrk0tuhbDKjb",
        "outputId": "d7408e7d-8e01-4afe-ca77-289dacb67d19"
      },
      "source": [
        "kmeans = KMeans(n_clusters=3, n_init = 15, random_state=2345)\n",
        "kmeans.fit(principal_df)\n",
        "centroids = kmeans.cluster_centers_\n",
        "print(centroids)\n",
        "centroid_df2 = pd.DataFrame(centroids, columns = principal_df.columns )\n",
        "centroid_df2"
      ],
      "execution_count": null,
      "outputs": [
        {
          "output_type": "stream",
          "name": "stdout",
          "text": [
            "[[-1.78327911  0.72807864 -0.01511958  0.03259256]\n",
            " [ 0.64727875 -0.88000892  0.02413273 -0.03279632]\n",
            " [ 2.99209845  3.53187654 -0.11856894  0.10717292]]\n"
          ]
        },
        {
          "output_type": "execute_result",
          "data": {
            "text/html": [
              "<div>\n",
              "<style scoped>\n",
              "    .dataframe tbody tr th:only-of-type {\n",
              "        vertical-align: middle;\n",
              "    }\n",
              "\n",
              "    .dataframe tbody tr th {\n",
              "        vertical-align: top;\n",
              "    }\n",
              "\n",
              "    .dataframe thead th {\n",
              "        text-align: right;\n",
              "    }\n",
              "</style>\n",
              "<table border=\"1\" class=\"dataframe\">\n",
              "  <thead>\n",
              "    <tr style=\"text-align: right;\">\n",
              "      <th></th>\n",
              "      <th>principal component 1</th>\n",
              "      <th>principal component 2</th>\n",
              "      <th>principal component 3</th>\n",
              "      <th>principal component 4</th>\n",
              "    </tr>\n",
              "  </thead>\n",
              "  <tbody>\n",
              "    <tr>\n",
              "      <th>0</th>\n",
              "      <td>-1.783279</td>\n",
              "      <td>0.728079</td>\n",
              "      <td>-0.015120</td>\n",
              "      <td>0.032593</td>\n",
              "    </tr>\n",
              "    <tr>\n",
              "      <th>1</th>\n",
              "      <td>0.647279</td>\n",
              "      <td>-0.880009</td>\n",
              "      <td>0.024133</td>\n",
              "      <td>-0.032796</td>\n",
              "    </tr>\n",
              "    <tr>\n",
              "      <th>2</th>\n",
              "      <td>2.992098</td>\n",
              "      <td>3.531877</td>\n",
              "      <td>-0.118569</td>\n",
              "      <td>0.107173</td>\n",
              "    </tr>\n",
              "  </tbody>\n",
              "</table>\n",
              "</div>"
            ],
            "text/plain": [
              "   principal component 1  ...  principal component 4\n",
              "0              -1.783279  ...               0.032593\n",
              "1               0.647279  ...              -0.032796\n",
              "2               2.992098  ...               0.107173\n",
              "\n",
              "[3 rows x 4 columns]"
            ]
          },
          "metadata": {},
          "execution_count": 44
        }
      ]
    },
    {
      "cell_type": "code",
      "metadata": {
        "colab": {
          "base_uri": "https://localhost:8080/",
          "height": 202
        },
        "id": "ntThiCmADKpm",
        "outputId": "1f69102f-d363-4315-9c16-c3f442ece77f"
      },
      "source": [
        "principal_df['KmeansLabel']=kmeans.labels_\n",
        "principal_df.head()"
      ],
      "execution_count": null,
      "outputs": [
        {
          "output_type": "execute_result",
          "data": {
            "text/html": [
              "<div>\n",
              "<style scoped>\n",
              "    .dataframe tbody tr th:only-of-type {\n",
              "        vertical-align: middle;\n",
              "    }\n",
              "\n",
              "    .dataframe tbody tr th {\n",
              "        vertical-align: top;\n",
              "    }\n",
              "\n",
              "    .dataframe thead th {\n",
              "        text-align: right;\n",
              "    }\n",
              "</style>\n",
              "<table border=\"1\" class=\"dataframe\">\n",
              "  <thead>\n",
              "    <tr style=\"text-align: right;\">\n",
              "      <th></th>\n",
              "      <th>principal component 1</th>\n",
              "      <th>principal component 2</th>\n",
              "      <th>principal component 3</th>\n",
              "      <th>principal component 4</th>\n",
              "      <th>KmeansLabel</th>\n",
              "    </tr>\n",
              "  </thead>\n",
              "  <tbody>\n",
              "    <tr>\n",
              "      <th>0</th>\n",
              "      <td>0.501291</td>\n",
              "      <td>0.524829</td>\n",
              "      <td>1.895862</td>\n",
              "      <td>1.200582</td>\n",
              "      <td>1</td>\n",
              "    </tr>\n",
              "    <tr>\n",
              "      <th>1</th>\n",
              "      <td>-1.459560</td>\n",
              "      <td>3.105588</td>\n",
              "      <td>-0.906802</td>\n",
              "      <td>0.411052</td>\n",
              "      <td>0</td>\n",
              "    </tr>\n",
              "    <tr>\n",
              "      <th>2</th>\n",
              "      <td>0.525795</td>\n",
              "      <td>0.823979</td>\n",
              "      <td>0.089030</td>\n",
              "      <td>-1.033119</td>\n",
              "      <td>1</td>\n",
              "    </tr>\n",
              "    <tr>\n",
              "      <th>3</th>\n",
              "      <td>-0.362294</td>\n",
              "      <td>0.128123</td>\n",
              "      <td>0.558215</td>\n",
              "      <td>-0.729885</td>\n",
              "      <td>1</td>\n",
              "    </tr>\n",
              "    <tr>\n",
              "      <th>4</th>\n",
              "      <td>1.266228</td>\n",
              "      <td>3.668708</td>\n",
              "      <td>-0.099999</td>\n",
              "      <td>0.505571</td>\n",
              "      <td>2</td>\n",
              "    </tr>\n",
              "  </tbody>\n",
              "</table>\n",
              "</div>"
            ],
            "text/plain": [
              "   principal component 1  ...  KmeansLabel\n",
              "0               0.501291  ...            1\n",
              "1              -1.459560  ...            0\n",
              "2               0.525795  ...            1\n",
              "3              -0.362294  ...            1\n",
              "4               1.266228  ...            2\n",
              "\n",
              "[5 rows x 5 columns]"
            ]
          },
          "metadata": {},
          "execution_count": 45
        }
      ]
    },
    {
      "cell_type": "markdown",
      "metadata": {
        "id": "qTztgpGUEmzM"
      },
      "source": [
        "Applying PCA is also yielding 3 clusters ,SO We are fine to go with K Means approach."
      ]
    },
    {
      "cell_type": "code",
      "metadata": {
        "colab": {
          "base_uri": "https://localhost:8080/",
          "height": 290
        },
        "id": "5Udu2G8ODK0I",
        "outputId": "14d585f5-8076-4065-9815-792be2ff977e"
      },
      "source": [
        "Kmeans_results=dataset.groupby('KmeansLabel').mean()\n",
        "Kmeans_results.index=['G1','G2','G3']\n",
        "Kmeans_results.plot.bar()\n"
      ],
      "execution_count": null,
      "outputs": [
        {
          "output_type": "execute_result",
          "data": {
            "text/plain": [
              "<matplotlib.axes._subplots.AxesSubplot at 0x7f30aaea9950>"
            ]
          },
          "metadata": {},
          "execution_count": 52
        },
        {
          "output_type": "display_data",
          "data": {
            "image/png": "[encoded data removed]",
            "text/plain": [
              "<Figure size 432x288 with 1 Axes>"
            ]
          },
          "metadata": {
            "needs_background": "light"
          }
        }
      ]
    },
    {
      "cell_type": "markdown",
      "metadata": {
        "id": "-XBh66bR5SOn"
      },
      "source": [
        "## Cluster Profiles and Marketing Recommendation"
      ]
    },
    {
      "cell_type": "markdown",
      "metadata": {
        "id": "g8RPdSin5SOn"
      },
      "source": [
        "Since applying PCA are not giving different clusters so we can assign labels from K Means to the original (non scaled) data  to analyse clusters profiles\n",
        "( here we are assigning labels of Kmeans , same could be done using hierarchical labels) "
      ]
    },
    {
      "cell_type": "code",
      "metadata": {
        "colab": {
          "base_uri": "https://localhost:8080/",
          "height": 308
        },
        "id": "bobGdpkn5SOo",
        "outputId": "a1c69ad1-db7d-46bc-a730-6b25fcb215e5"
      },
      "source": [
        "subset['KmeansLabel']=dataset['KmeansLabel']\n",
        "subset.head()\n"
      ],
      "execution_count": null,
      "outputs": [
        {
          "output_type": "stream",
          "name": "stderr",
          "text": [
            "/usr/local/lib/python3.7/dist-packages/ipykernel_launcher.py:1: SettingWithCopyWarning: \n",
            "A value is trying to be set on a copy of a slice from a DataFrame.\n",
            "Try using .loc[row_indexer,col_indexer] = value instead\n",
            "\n",
            "See the caveats in the documentation: https://pandas.pydata.org/pandas-docs/stable/user_guide/indexing.html#returning-a-view-versus-a-copy\n",
            "  \"\"\"Entry point for launching an IPython kernel.\n"
          ]
        },
        {
          "output_type": "execute_result",
          "data": {
            "text/html": [
              "<div>\n",
              "<style scoped>\n",
              "    .dataframe tbody tr th:only-of-type {\n",
              "        vertical-align: middle;\n",
              "    }\n",
              "\n",
              "    .dataframe tbody tr th {\n",
              "        vertical-align: top;\n",
              "    }\n",
              "\n",
              "    .dataframe thead th {\n",
              "        text-align: right;\n",
              "    }\n",
              "</style>\n",
              "<table border=\"1\" class=\"dataframe\">\n",
              "  <thead>\n",
              "    <tr style=\"text-align: right;\">\n",
              "      <th></th>\n",
              "      <th>Avg_Credit_Limit</th>\n",
              "      <th>Total_Credit_Cards</th>\n",
              "      <th>Total_visits_bank</th>\n",
              "      <th>Total_visits_online</th>\n",
              "      <th>Total_calls_made</th>\n",
              "      <th>KmeansLabel</th>\n",
              "    </tr>\n",
              "  </thead>\n",
              "  <tbody>\n",
              "    <tr>\n",
              "      <th>0</th>\n",
              "      <td>100000</td>\n",
              "      <td>2</td>\n",
              "      <td>1</td>\n",
              "      <td>1</td>\n",
              "      <td>0</td>\n",
              "      <td>1</td>\n",
              "    </tr>\n",
              "    <tr>\n",
              "      <th>1</th>\n",
              "      <td>50000</td>\n",
              "      <td>3</td>\n",
              "      <td>0</td>\n",
              "      <td>10</td>\n",
              "      <td>9</td>\n",
              "      <td>0</td>\n",
              "    </tr>\n",
              "    <tr>\n",
              "      <th>2</th>\n",
              "      <td>50000</td>\n",
              "      <td>7</td>\n",
              "      <td>1</td>\n",
              "      <td>3</td>\n",
              "      <td>4</td>\n",
              "      <td>1</td>\n",
              "    </tr>\n",
              "    <tr>\n",
              "      <th>3</th>\n",
              "      <td>30000</td>\n",
              "      <td>5</td>\n",
              "      <td>1</td>\n",
              "      <td>1</td>\n",
              "      <td>4</td>\n",
              "      <td>1</td>\n",
              "    </tr>\n",
              "    <tr>\n",
              "      <th>4</th>\n",
              "      <td>100000</td>\n",
              "      <td>6</td>\n",
              "      <td>0</td>\n",
              "      <td>12</td>\n",
              "      <td>3</td>\n",
              "      <td>2</td>\n",
              "    </tr>\n",
              "  </tbody>\n",
              "</table>\n",
              "</div>"
            ],
            "text/plain": [
              "   Avg_Credit_Limit  Total_Credit_Cards  ...  Total_calls_made  KmeansLabel\n",
              "0            100000                   2  ...                 0            1\n",
              "1             50000                   3  ...                 9            0\n",
              "2             50000                   7  ...                 4            1\n",
              "3             30000                   5  ...                 4            1\n",
              "4            100000                   6  ...                 3            2\n",
              "\n",
              "[5 rows x 6 columns]"
            ]
          },
          "metadata": {},
          "execution_count": 49
        }
      ]
    },
    {
      "cell_type": "markdown",
      "metadata": {
        "id": "rxtOZmCE5SOo"
      },
      "source": [
        "#### Understanding each feature characterstics within different clusters "
      ]
    },
    {
      "cell_type": "code",
      "metadata": {
        "colab": {
          "base_uri": "https://localhost:8080/"
        },
        "id": "sHP4K0vy5SOo",
        "outputId": "7191abcf-c688-4c86-f604-c2a29f1f434b"
      },
      "source": [
        "for each in features:\n",
        "    print (each)\n",
        "    print ( subset.groupby('KmeansLabel').describe().round()[each][['count','mean','min','max']])\n",
        "    \n",
        "    print (\"\\n\\n\")\n",
        "    \n",
        "    "
      ],
      "execution_count": null,
      "outputs": [
        {
          "output_type": "stream",
          "name": "stdout",
          "text": [
            "Avg_Credit_Limit\n",
            "             count      mean      min       max\n",
            "KmeansLabel                                    \n",
            "0            224.0   12174.0   3000.0   50000.0\n",
            "1            386.0   33782.0   5000.0  100000.0\n",
            "2             50.0  141040.0  84000.0  200000.0\n",
            "\n",
            "\n",
            "\n",
            "Total_Credit_Cards\n",
            "             count  mean  min   max\n",
            "KmeansLabel                        \n",
            "0            224.0   2.0  1.0   4.0\n",
            "1            386.0   6.0  2.0   7.0\n",
            "2             50.0   9.0  5.0  10.0\n",
            "\n",
            "\n",
            "\n",
            "Total_visits_bank\n",
            "             count  mean  min  max\n",
            "KmeansLabel                       \n",
            "0            224.0   1.0  0.0  2.0\n",
            "1            386.0   3.0  1.0  5.0\n",
            "2             50.0   1.0  0.0  1.0\n",
            "\n",
            "\n",
            "\n",
            "Total_visits_online\n",
            "             count  mean  min   max\n",
            "KmeansLabel                        \n",
            "0            224.0   4.0  1.0  10.0\n",
            "1            386.0   1.0  0.0   3.0\n",
            "2             50.0  11.0  6.0  15.0\n",
            "\n",
            "\n",
            "\n",
            "Total_calls_made\n",
            "             count  mean  min   max\n",
            "KmeansLabel                        \n",
            "0            224.0   7.0  1.0  10.0\n",
            "1            386.0   2.0  0.0   4.0\n",
            "2             50.0   1.0  0.0   3.0\n",
            "\n",
            "\n",
            "\n"
          ]
        }
      ]
    },
    {
      "cell_type": "markdown",
      "metadata": {
        "id": "3vJG-t0f5SOq"
      },
      "source": [
        "####Cluster Profiles\n",
        "  \n",
        "**Label 0 can be considered low valued customers**\n",
        "   \n",
        "    This group comprises of about 34% of the customers ( 224/660 )\n",
        "    Lowest Average Credit Limit and make many customer care calls\n",
        "    \n",
        "\n",
        "\n",
        "\n",
        "**Label 1 can be considered medium valued customers** \n",
        "    \n",
        "    This group forms the majority of the customers having about 58% customers in total  ( 386/660 )\n",
        "    These customers have  \"Avg_Credit_Limit \" ranging from 5000.0 to 100000.0 \n",
        "    \n",
        "    These are the ones which make the maximum number of visits to the bank as the average visits to bank is 3.\n",
        "    \n",
        "    They are the ones who are least active online as the maximum visit onine is just 3\n",
        "\n",
        "\n",
        "\n",
        "**Label 2 can be considered  high value customers** \n",
        "    \n",
        "    These are the least in number i.e. only 50 customers comprising 7.5% of total customers (50/660) .\n",
        "    \n",
        "    These customers have a minimum \"Avg_Credit_Limit \" of 84000 and have atleast 5 Credit cards .\n",
        "    \n",
        "    These are the ones which make the minimum number of visits to the bank as the maximum visit to bank is 1 amongst all 50     customers.\n",
        "    \n",
        "    They are mostly using online services as the average visit online is 11. \n",
        "\n",
        "\n"
      ]
    },
    {
      "cell_type": "markdown",
      "metadata": {
        "id": "scFFHANv5SOq"
      },
      "source": [
        "####Recommendation"
      ]
    },
    {
      "cell_type": "markdown",
      "metadata": {
        "id": "f1FQcv1w5SOr"
      },
      "source": [
        "1. Customers in the medium group ( having Label 1 ) are not engaged much in online activities , one of the exercise can be to engage them online. If they join online , promotions and offers can be communicated to them with much ease.\n",
        "\n",
        "\n",
        "\n",
        "2. Customers in low group ( label 0 ) can further be binned to check if there are any extreme groups having high average credit limit.These customers can be given more offers and new credit cards so that we can have them in medium group (label 1 )  over a period of time. Similarly we can perform this for medium customers (label 1)  and try to have them in high group (label 2) over a period of time .\n",
        "\n",
        "\n",
        "\n",
        "3. Customers in low group ( label 0 ) make the most number of customer care calls, these customers can be told about different offers to try and move them to  medium group over a period of time .\n"
      ]
    }
  ]
}